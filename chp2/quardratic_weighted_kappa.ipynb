{
 "cells": [
  {
   "cell_type": "code",
   "execution_count": 3,
   "metadata": {},
   "outputs": [],
   "source": [
    "import numpy as np\n",
    "from sklearn.metrics import confusion_matrix, cohen_kappa_score"
   ]
  },
  {
   "cell_type": "code",
   "execution_count": 18,
   "metadata": {},
   "outputs": [],
   "source": [
    "def quardatic_weighted_kappa(c_matrix):\n",
    "    numer = 0.0\n",
    "    denom = 0.0\n",
    "    \n",
    "    for i in range(c_matrix.shape[0]):\n",
    "        for j in range(c_matrix.shape[1]):\n",
    "            n = c_matrix.shape[0]\n",
    "            wij = ((i-j) ** 2.0)\n",
    "            oij = c_matrix[i, j]\n",
    "            eij = c_matrix[i, :].sum() * c_matrix[:, j].sum() / c_matrix.sum()\n",
    "            \n",
    "            numer += wij * oij\n",
    "            denom += wij * eij\n",
    "            \n",
    "    return 1.0 - numer / denom\n",
    "            "
   ]
  },
  {
   "cell_type": "code",
   "execution_count": 19,
   "metadata": {},
   "outputs": [],
   "source": [
    "y_true = [1, 2, 3, 4, 3]\n",
    "y_pred = [2, 2, 4, 5, 5]"
   ]
  },
  {
   "cell_type": "code",
   "execution_count": 20,
   "metadata": {},
   "outputs": [],
   "source": [
    "c_matrix = confusion_matrix(y_true, y_pred, labels=[1, 2, 3, 4, 5])"
   ]
  },
  {
   "cell_type": "code",
   "execution_count": 21,
   "metadata": {},
   "outputs": [
    {
     "name": "stdout",
     "output_type": "stream",
     "text": [
      "0.6391752577319588\n"
     ]
    }
   ],
   "source": [
    "kappa = quardatic_weighted_kappa(c_matrix)\n",
    "print(kappa)"
   ]
  },
  {
   "cell_type": "code",
   "execution_count": 22,
   "metadata": {},
   "outputs": [
    {
     "name": "stdout",
     "output_type": "stream",
     "text": [
      "0.6391752577319588\n"
     ]
    }
   ],
   "source": [
    "kappa = cohen_kappa_score(y_true, y_pred, weights='quadratic')\n",
    "print(kappa)"
   ]
  },
  {
   "cell_type": "code",
   "execution_count": null,
   "metadata": {},
   "outputs": [],
   "source": []
  }
 ],
 "metadata": {
  "kernelspec": {
   "display_name": "Python 3",
   "language": "python",
   "name": "python3"
  },
  "language_info": {
   "codemirror_mode": {
    "name": "ipython",
    "version": 3
   },
   "file_extension": ".py",
   "mimetype": "text/x-python",
   "name": "python",
   "nbconvert_exporter": "python",
   "pygments_lexer": "ipython3",
   "version": "3.7.1"
  }
 },
 "nbformat": 4,
 "nbformat_minor": 2
}
